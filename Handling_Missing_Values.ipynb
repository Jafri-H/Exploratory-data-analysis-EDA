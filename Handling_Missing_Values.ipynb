{
  "cells": [
    {
      "cell_type": "markdown",
      "metadata": {
        "id": "qerwJaWtVnW0"
      },
      "source": [
        "#### Methods to Handle Missing Values:\n",
        "1. **Imputation** - using statistical values to fill missing values\n",
        "2. **Dropping** - dropping the missing value rows"
      ]
    },
    {
      "cell_type": "markdown",
      "metadata": {
        "id": "WLyZzkTaD1lK"
      },
      "source": [
        "* In ML or Data Science , we use datasets which are use to train our ML models.\n",
        "* Once the ML is trained with the dataset, we can make new predictions.\n",
        "* In order to feed the dataset into the ML, we need to clean the data."
      ]
    },
    {
      "cell_type": "markdown",
      "metadata": {
        "id": "ESeG8Bc0Ytcz"
      },
      "source": [
        "#### Importing the libraries\n",
        "\n",
        "*  Pandas for making pandas dataframe which is nothing but structured table.\n",
        "*  Matplotlib for visuals\n",
        "*  Seaborn for plot and graph\n"
      ]
    },
    {
      "cell_type": "code",
      "execution_count": 2,
      "metadata": {
        "id": "G73e8tnFVi3z"
      },
      "outputs": [],
      "source": [
        "import pandas as pd\n",
        "import matplotlib.pyplot as plt\n",
        "import seaborn as sns"
      ]
    },
    {
      "cell_type": "markdown",
      "metadata": {
        "id": "lNcfbeHvGQEE"
      },
      "source": [
        "#### Loading the dataset to a Pandas DataFrame:"
      ]
    },
    {
      "cell_type": "code",
      "execution_count": 3,
      "metadata": {
        "colab": {
          "base_uri": "https://localhost:8080/",
          "height": 304
        },
        "id": "iCANYhqVY6Pm",
        "outputId": "062f7864-a41b-4534-98ea-433b89e6a6af"
      },
      "outputs": [],
      "source": [
        "dataset = pd.read_csv('Placement_Dataset.csv')"
      ]
    },
    {
      "cell_type": "markdown",
      "metadata": {
        "id": "dxhkTE96H0Px"
      },
      "source": [
        "#### Checking the first 5 rows of the dataset"
      ]
    },
    {
      "cell_type": "code",
      "execution_count": 4,
      "metadata": {
        "id": "VOSLBTzkZMlI"
      },
      "outputs": [
        {
          "data": {
            "text/html": [
              "<div>\n",
              "<style scoped>\n",
              "    .dataframe tbody tr th:only-of-type {\n",
              "        vertical-align: middle;\n",
              "    }\n",
              "\n",
              "    .dataframe tbody tr th {\n",
              "        vertical-align: top;\n",
              "    }\n",
              "\n",
              "    .dataframe thead th {\n",
              "        text-align: right;\n",
              "    }\n",
              "</style>\n",
              "<table border=\"1\" class=\"dataframe\">\n",
              "  <thead>\n",
              "    <tr style=\"text-align: right;\">\n",
              "      <th></th>\n",
              "      <th>sl_no</th>\n",
              "      <th>gender</th>\n",
              "      <th>ssc_p</th>\n",
              "      <th>ssc_b</th>\n",
              "      <th>hsc_p</th>\n",
              "      <th>hsc_b</th>\n",
              "      <th>hsc_s</th>\n",
              "      <th>degree_p</th>\n",
              "      <th>degree_t</th>\n",
              "      <th>workex</th>\n",
              "      <th>etest_p</th>\n",
              "      <th>specialisation</th>\n",
              "      <th>mba_p</th>\n",
              "      <th>status</th>\n",
              "      <th>salary</th>\n",
              "    </tr>\n",
              "  </thead>\n",
              "  <tbody>\n",
              "    <tr>\n",
              "      <th>0</th>\n",
              "      <td>1</td>\n",
              "      <td>M</td>\n",
              "      <td>67.00</td>\n",
              "      <td>Others</td>\n",
              "      <td>91.00</td>\n",
              "      <td>Others</td>\n",
              "      <td>Commerce</td>\n",
              "      <td>58.00</td>\n",
              "      <td>Sci&amp;Tech</td>\n",
              "      <td>No</td>\n",
              "      <td>55.0</td>\n",
              "      <td>Mkt&amp;HR</td>\n",
              "      <td>58.80</td>\n",
              "      <td>Placed</td>\n",
              "      <td>270000.0</td>\n",
              "    </tr>\n",
              "    <tr>\n",
              "      <th>1</th>\n",
              "      <td>2</td>\n",
              "      <td>M</td>\n",
              "      <td>79.33</td>\n",
              "      <td>Central</td>\n",
              "      <td>78.33</td>\n",
              "      <td>Others</td>\n",
              "      <td>Science</td>\n",
              "      <td>77.48</td>\n",
              "      <td>Sci&amp;Tech</td>\n",
              "      <td>Yes</td>\n",
              "      <td>86.5</td>\n",
              "      <td>Mkt&amp;Fin</td>\n",
              "      <td>66.28</td>\n",
              "      <td>Placed</td>\n",
              "      <td>200000.0</td>\n",
              "    </tr>\n",
              "    <tr>\n",
              "      <th>2</th>\n",
              "      <td>3</td>\n",
              "      <td>M</td>\n",
              "      <td>65.00</td>\n",
              "      <td>Central</td>\n",
              "      <td>68.00</td>\n",
              "      <td>Central</td>\n",
              "      <td>Arts</td>\n",
              "      <td>64.00</td>\n",
              "      <td>Comm&amp;Mgmt</td>\n",
              "      <td>No</td>\n",
              "      <td>75.0</td>\n",
              "      <td>Mkt&amp;Fin</td>\n",
              "      <td>57.80</td>\n",
              "      <td>Placed</td>\n",
              "      <td>250000.0</td>\n",
              "    </tr>\n",
              "    <tr>\n",
              "      <th>3</th>\n",
              "      <td>4</td>\n",
              "      <td>M</td>\n",
              "      <td>56.00</td>\n",
              "      <td>Central</td>\n",
              "      <td>52.00</td>\n",
              "      <td>Central</td>\n",
              "      <td>Science</td>\n",
              "      <td>52.00</td>\n",
              "      <td>Sci&amp;Tech</td>\n",
              "      <td>No</td>\n",
              "      <td>66.0</td>\n",
              "      <td>Mkt&amp;HR</td>\n",
              "      <td>59.43</td>\n",
              "      <td>Not Placed</td>\n",
              "      <td>NaN</td>\n",
              "    </tr>\n",
              "    <tr>\n",
              "      <th>4</th>\n",
              "      <td>5</td>\n",
              "      <td>M</td>\n",
              "      <td>85.80</td>\n",
              "      <td>Central</td>\n",
              "      <td>73.60</td>\n",
              "      <td>Central</td>\n",
              "      <td>Commerce</td>\n",
              "      <td>73.30</td>\n",
              "      <td>Comm&amp;Mgmt</td>\n",
              "      <td>No</td>\n",
              "      <td>96.8</td>\n",
              "      <td>Mkt&amp;Fin</td>\n",
              "      <td>55.50</td>\n",
              "      <td>Placed</td>\n",
              "      <td>425000.0</td>\n",
              "    </tr>\n",
              "  </tbody>\n",
              "</table>\n",
              "</div>"
            ],
            "text/plain": [
              "   sl_no gender  ssc_p    ssc_b  hsc_p    hsc_b     hsc_s  degree_p  \\\n",
              "0      1      M  67.00   Others  91.00   Others  Commerce     58.00   \n",
              "1      2      M  79.33  Central  78.33   Others   Science     77.48   \n",
              "2      3      M  65.00  Central  68.00  Central      Arts     64.00   \n",
              "3      4      M  56.00  Central  52.00  Central   Science     52.00   \n",
              "4      5      M  85.80  Central  73.60  Central  Commerce     73.30   \n",
              "\n",
              "    degree_t workex  etest_p specialisation  mba_p      status    salary  \n",
              "0   Sci&Tech     No     55.0         Mkt&HR  58.80      Placed  270000.0  \n",
              "1   Sci&Tech    Yes     86.5        Mkt&Fin  66.28      Placed  200000.0  \n",
              "2  Comm&Mgmt     No     75.0        Mkt&Fin  57.80      Placed  250000.0  \n",
              "3   Sci&Tech     No     66.0         Mkt&HR  59.43  Not Placed       NaN  \n",
              "4  Comm&Mgmt     No     96.8        Mkt&Fin  55.50      Placed  425000.0  "
            ]
          },
          "execution_count": 4,
          "metadata": {},
          "output_type": "execute_result"
        }
      ],
      "source": [
        "dataset.head()"
      ]
    },
    {
      "cell_type": "markdown",
      "metadata": {
        "id": "S6OcYG7aGzVM"
      },
      "source": [
        "#### Columns Description:\n",
        "- **sl_no**: Serial Number  \n",
        "- **gender**: Gender  \n",
        "- **ssc_p**: Secondary School Certificate Percentage (or 10th Grade Percentage)  \n",
        "- **ssc_b**: Secondary School Certificate Board (or 10th Grade Board)  \n",
        "- **hsc_p**: Higher Secondary Certificate Percentage (or 12th Grade Percentage)  \n",
        "- **hsc_b**: Higher Secondary Certificate Board (or 12th Grade Board)  \n",
        "- **hsc_s**: Higher Secondary Certificate Stream (or 12th Grade Stream, e.g., Science, Commerce, Arts)  \n",
        "- **degree_p**: Degree Percentage (or Undergraduate Percentage)  \n",
        "- **degree_t**: Degree Type (or Undergraduate Degree Type, e.g., B.Tech, B.Com, B.Sc)  \n",
        "- **workex**: Work Experience (whether the candidate has prior work experience)  \n",
        "- **etest_p**: Employability Test Percentage (or Entrance Test Percentage)  \n",
        "- **specialisation**: Specialisation (e.g., MBA specialisation like Marketing, Finance)  \n",
        "- **mba_p**: MBA Percentage (or Postgraduate Percentage)  \n",
        "- **status**: Placement Status (whether the candidate is placed or not)  \n",
        "- **salary**: Salary (offered to the candidate, if placed)  "
      ]
    },
    {
      "cell_type": "markdown",
      "metadata": {
        "id": "To77zouGHi8i"
      },
      "source": [
        "#### Finding the rows and columns in the dataset"
      ]
    },
    {
      "cell_type": "code",
      "execution_count": 5,
      "metadata": {
        "id": "EAbAvqhyZQZU"
      },
      "outputs": [
        {
          "data": {
            "text/plain": [
              "(215, 15)"
            ]
          },
          "execution_count": 5,
          "metadata": {},
          "output_type": "execute_result"
        }
      ],
      "source": [
        "dataset.shape"
      ]
    },
    {
      "cell_type": "markdown",
      "metadata": {
        "id": "yK90J7ABHq9M"
      },
      "source": [
        "#### Finding the missing values in each column"
      ]
    },
    {
      "cell_type": "code",
      "execution_count": 6,
      "metadata": {
        "id": "p_kZfcSuZj6S"
      },
      "outputs": [
        {
          "data": {
            "text/plain": [
              "sl_no              0\n",
              "gender             0\n",
              "ssc_p              0\n",
              "ssc_b              0\n",
              "hsc_p              0\n",
              "hsc_b              0\n",
              "hsc_s              0\n",
              "degree_p           0\n",
              "degree_t           0\n",
              "workex             0\n",
              "etest_p            0\n",
              "specialisation     0\n",
              "mba_p              0\n",
              "status             0\n",
              "salary            67\n",
              "dtype: int64"
            ]
          },
          "execution_count": 6,
          "metadata": {},
          "output_type": "execute_result"
        }
      ],
      "source": [
        "dataset.isnull().sum()"
      ]
    },
    {
      "cell_type": "markdown",
      "metadata": {
        "id": "iT23FyUtH7t9"
      },
      "source": [
        "* There are 67 missing values in salary column."
      ]
    },
    {
      "cell_type": "markdown",
      "metadata": {
        "id": "NOlWuDtbZ62m"
      },
      "source": [
        "#### Central Tendencies:\n",
        "1. **Mean**: Average of all the values.\n",
        "2. **Median**: Middle value.\n",
        "3. **Mode**:Most repeated value."
      ]
    },
    {
      "cell_type": "markdown",
      "metadata": {
        "id": "0KPsnnAXI644"
      },
      "source": [
        "#### Analyzing the **symmetry** of the dataset to determine which measure of central tendency to use for filling missing values."
      ]
    },
    {
      "cell_type": "code",
      "execution_count": 7,
      "metadata": {
        "id": "cueF_4wKKFXe"
      },
      "outputs": [
        {
          "data": {
            "image/png": "[encoded data removed]",
            "text/plain": [
              "<Figure size 800x800 with 1 Axes>"
            ]
          },
          "metadata": {},
          "output_type": "display_data"
        }
      ],
      "source": [
        "fig, ax = plt.subplots(figsize=(8, 8))\n",
        "sns.histplot(dataset.salary)\n",
        "plt.show()"
      ]
    },
    {
      "cell_type": "markdown",
      "metadata": {
        "id": "U4s8X0gAKlts"
      },
      "source": [
        "* Mostly the value around 250 thousand.\n",
        "* The data is Right skewed.\n",
        "   * Right-skewed (positive skewness) → Tail is longer on the right.\n",
        "   * Left-skewed (negative skewness) → Tail is longer on the left.\n",
        "   * Symmetric (normal distribution) → Balanced on both sides.\n",
        "* We have outliers in the data so we can not use mean value.\n",
        "* For skew distribution we either use median or mode.\n",
        "\n"
      ]
    },
    {
      "cell_type": "markdown",
      "metadata": {
        "id": "7pF_MwJsMsAi"
      },
      "source": [
        "### Imputation Method:"
      ]
    },
    {
      "cell_type": "markdown",
      "metadata": {
        "id": "_6msZoE3bYkE"
      },
      "source": [
        "#### Replace the missing values with Median value"
      ]
    },
    {
      "cell_type": "code",
      "execution_count": 8,
      "metadata": {
        "id": "WrPReLx8a6Wn"
      },
      "outputs": [],
      "source": [
        "dataset['salary'] = dataset['salary'].fillna(dataset['salary'].median())"
      ]
    },
    {
      "cell_type": "markdown",
      "metadata": {
        "id": "bncGngNiMf0V"
      },
      "source": [
        "#### Checking Missing value:"
      ]
    },
    {
      "cell_type": "code",
      "execution_count": 9,
      "metadata": {
        "id": "IJD7xzWMbumd"
      },
      "outputs": [
        {
          "data": {
            "text/plain": [
              "sl_no             0\n",
              "gender            0\n",
              "ssc_p             0\n",
              "ssc_b             0\n",
              "hsc_p             0\n",
              "hsc_b             0\n",
              "hsc_s             0\n",
              "degree_p          0\n",
              "degree_t          0\n",
              "workex            0\n",
              "etest_p           0\n",
              "specialisation    0\n",
              "mba_p             0\n",
              "status            0\n",
              "salary            0\n",
              "dtype: int64"
            ]
          },
          "execution_count": 9,
          "metadata": {},
          "output_type": "execute_result"
        }
      ],
      "source": [
        "dataset.isnull().sum()"
      ]
    },
    {
      "cell_type": "markdown",
      "metadata": {
        "id": "jycl4Mq9MWhP"
      },
      "source": [
        "* All the missing values of salary column has been filled with median value."
      ]
    },
    {
      "cell_type": "markdown",
      "metadata": {
        "id": "LdoDwU8wcXZX"
      },
      "source": [
        "### Dropping Method:"
      ]
    },
    {
      "cell_type": "code",
      "execution_count": 10,
      "metadata": {
        "id": "GP-llMUscL5S"
      },
      "outputs": [],
      "source": [
        "salary_dataset = pd.read_csv('Placement_Dataset.csv')"
      ]
    },
    {
      "cell_type": "code",
      "execution_count": 11,
      "metadata": {
        "id": "M9qDpkUKchNR"
      },
      "outputs": [
        {
          "data": {
            "text/plain": [
              "(215, 15)"
            ]
          },
          "execution_count": 11,
          "metadata": {},
          "output_type": "execute_result"
        }
      ],
      "source": [
        "salary_dataset.shape"
      ]
    },
    {
      "cell_type": "code",
      "execution_count": 12,
      "metadata": {
        "id": "ETZJ_G7sckYk"
      },
      "outputs": [
        {
          "data": {
            "text/plain": [
              "sl_no              0\n",
              "gender             0\n",
              "ssc_p              0\n",
              "ssc_b              0\n",
              "hsc_p              0\n",
              "hsc_b              0\n",
              "hsc_s              0\n",
              "degree_p           0\n",
              "degree_t           0\n",
              "workex             0\n",
              "etest_p            0\n",
              "specialisation     0\n",
              "mba_p              0\n",
              "status             0\n",
              "salary            67\n",
              "dtype: int64"
            ]
          },
          "execution_count": 12,
          "metadata": {},
          "output_type": "execute_result"
        }
      ],
      "source": [
        "salary_dataset.isnull().sum()"
      ]
    },
    {
      "cell_type": "markdown",
      "metadata": {
        "id": "ytI_CSMhNFrI"
      },
      "source": [
        "#### Dropping the missing values:\n",
        "\n",
        "\n"
      ]
    },
    {
      "cell_type": "code",
      "execution_count": 13,
      "metadata": {
        "id": "J5CR8ARGcoGc"
      },
      "outputs": [],
      "source": [
        "salary_dataset = salary_dataset.dropna(how = 'any')"
      ]
    },
    {
      "cell_type": "code",
      "execution_count": 14,
      "metadata": {
        "id": "Iepl2NSCc1H7"
      },
      "outputs": [
        {
          "data": {
            "text/plain": [
              "sl_no             0\n",
              "gender            0\n",
              "ssc_p             0\n",
              "ssc_b             0\n",
              "hsc_p             0\n",
              "hsc_b             0\n",
              "hsc_s             0\n",
              "degree_p          0\n",
              "degree_t          0\n",
              "workex            0\n",
              "etest_p           0\n",
              "specialisation    0\n",
              "mba_p             0\n",
              "status            0\n",
              "salary            0\n",
              "dtype: int64"
            ]
          },
          "execution_count": 14,
          "metadata": {},
          "output_type": "execute_result"
        }
      ],
      "source": [
        "salary_dataset.isnull().sum()"
      ]
    },
    {
      "cell_type": "code",
      "execution_count": 15,
      "metadata": {
        "id": "ed5_C3nYc3Km"
      },
      "outputs": [
        {
          "data": {
            "text/plain": [
              "(148, 15)"
            ]
          },
          "execution_count": 15,
          "metadata": {},
          "output_type": "execute_result"
        }
      ],
      "source": [
        "salary_dataset.shape"
      ]
    }
  ],
  "metadata": {
    "colab": {
      "provenance": []
    },
    "kernelspec": {
      "display_name": "Python 3",
      "name": "python3"
    },
    "language_info": {
      "codemirror_mode": {
        "name": "ipython",
        "version": 3
      },
      "file_extension": ".py",
      "mimetype": "text/x-python",
      "name": "python",
      "nbconvert_exporter": "python",
      "pygments_lexer": "ipython3",
      "version": "3.13.1"
    }
  },
  "nbformat": 4,
  "nbformat_minor": 0
}
